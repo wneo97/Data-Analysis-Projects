{
  "nbformat": 4,
  "nbformat_minor": 0,
  "metadata": {
    "colab": {
      "provenance": [],
      "gpuType": "T4"
    },
    "kernelspec": {
      "name": "python3",
      "display_name": "Python 3"
    },
    "language_info": {
      "name": "python"
    },
    "accelerator": "GPU"
  },
  "cells": [
    {
      "cell_type": "markdown",
      "metadata": {
        "id": "30fae587"
      },
      "source": [
        "# Task\n",
        "Import data from BigQuery into a pandas DataFrame."
      ]
    },
    {
      "cell_type": "markdown",
      "metadata": {
        "id": "74c794d0"
      },
      "source": [
        "## Install the necessary libraries\n",
        "\n",
        "### Subtask:\n",
        "Install the `google-cloud-bigquery` library to interact with BigQuery.\n"
      ]
    },
    {
      "cell_type": "markdown",
      "metadata": {
        "id": "469f60f5"
      },
      "source": [
        "**Reasoning**:\n",
        "Install the `google-cloud-bigquery` library using pip.\n",
        "\n"
      ]
    },
    {
      "cell_type": "code",
      "metadata": {
        "id": "86eb7f6f",
        "colab": {
          "base_uri": "https://localhost:8080/"
        },
        "outputId": "e1583650-2d2c-4b37-f67f-94816e3e1860"
      },
      "source": [
        "%pip install google-cloud-bigquery"
      ],
      "execution_count": 1,
      "outputs": [
        {
          "output_type": "stream",
          "name": "stdout",
          "text": [
            "Requirement already satisfied: google-cloud-bigquery in /usr/local/lib/python3.12/dist-packages (3.36.0)\n",
            "Requirement already satisfied: google-api-core<3.0.0,>=2.11.1 in /usr/local/lib/python3.12/dist-packages (from google-api-core[grpc]<3.0.0,>=2.11.1->google-cloud-bigquery) (2.25.1)\n",
            "Requirement already satisfied: google-auth<3.0.0,>=2.14.1 in /usr/local/lib/python3.12/dist-packages (from google-cloud-bigquery) (2.38.0)\n",
            "Requirement already satisfied: google-cloud-core<3.0.0,>=2.4.1 in /usr/local/lib/python3.12/dist-packages (from google-cloud-bigquery) (2.4.3)\n",
            "Requirement already satisfied: google-resumable-media<3.0.0,>=2.0.0 in /usr/local/lib/python3.12/dist-packages (from google-cloud-bigquery) (2.7.2)\n",
            "Requirement already satisfied: packaging>=24.2.0 in /usr/local/lib/python3.12/dist-packages (from google-cloud-bigquery) (25.0)\n",
            "Requirement already satisfied: python-dateutil<3.0.0,>=2.8.2 in /usr/local/lib/python3.12/dist-packages (from google-cloud-bigquery) (2.9.0.post0)\n",
            "Requirement already satisfied: requests<3.0.0,>=2.21.0 in /usr/local/lib/python3.12/dist-packages (from google-cloud-bigquery) (2.32.4)\n",
            "Requirement already satisfied: googleapis-common-protos<2.0.0,>=1.56.2 in /usr/local/lib/python3.12/dist-packages (from google-api-core<3.0.0,>=2.11.1->google-api-core[grpc]<3.0.0,>=2.11.1->google-cloud-bigquery) (1.70.0)\n",
            "Requirement already satisfied: protobuf!=3.20.0,!=3.20.1,!=4.21.0,!=4.21.1,!=4.21.2,!=4.21.3,!=4.21.4,!=4.21.5,<7.0.0,>=3.19.5 in /usr/local/lib/python3.12/dist-packages (from google-api-core<3.0.0,>=2.11.1->google-api-core[grpc]<3.0.0,>=2.11.1->google-cloud-bigquery) (5.29.5)\n",
            "Requirement already satisfied: proto-plus<2.0.0,>=1.22.3 in /usr/local/lib/python3.12/dist-packages (from google-api-core<3.0.0,>=2.11.1->google-api-core[grpc]<3.0.0,>=2.11.1->google-cloud-bigquery) (1.26.1)\n",
            "Requirement already satisfied: grpcio<2.0.0,>=1.33.2 in /usr/local/lib/python3.12/dist-packages (from google-api-core[grpc]<3.0.0,>=2.11.1->google-cloud-bigquery) (1.74.0)\n",
            "Requirement already satisfied: grpcio-status<2.0.0,>=1.33.2 in /usr/local/lib/python3.12/dist-packages (from google-api-core[grpc]<3.0.0,>=2.11.1->google-cloud-bigquery) (1.71.2)\n",
            "Requirement already satisfied: cachetools<6.0,>=2.0.0 in /usr/local/lib/python3.12/dist-packages (from google-auth<3.0.0,>=2.14.1->google-cloud-bigquery) (5.5.2)\n",
            "Requirement already satisfied: pyasn1-modules>=0.2.1 in /usr/local/lib/python3.12/dist-packages (from google-auth<3.0.0,>=2.14.1->google-cloud-bigquery) (0.4.2)\n",
            "Requirement already satisfied: rsa<5,>=3.1.4 in /usr/local/lib/python3.12/dist-packages (from google-auth<3.0.0,>=2.14.1->google-cloud-bigquery) (4.9.1)\n",
            "Requirement already satisfied: google-crc32c<2.0dev,>=1.0 in /usr/local/lib/python3.12/dist-packages (from google-resumable-media<3.0.0,>=2.0.0->google-cloud-bigquery) (1.7.1)\n",
            "Requirement already satisfied: six>=1.5 in /usr/local/lib/python3.12/dist-packages (from python-dateutil<3.0.0,>=2.8.2->google-cloud-bigquery) (1.17.0)\n",
            "Requirement already satisfied: charset_normalizer<4,>=2 in /usr/local/lib/python3.12/dist-packages (from requests<3.0.0,>=2.21.0->google-cloud-bigquery) (3.4.3)\n",
            "Requirement already satisfied: idna<4,>=2.5 in /usr/local/lib/python3.12/dist-packages (from requests<3.0.0,>=2.21.0->google-cloud-bigquery) (3.10)\n",
            "Requirement already satisfied: urllib3<3,>=1.21.1 in /usr/local/lib/python3.12/dist-packages (from requests<3.0.0,>=2.21.0->google-cloud-bigquery) (2.5.0)\n",
            "Requirement already satisfied: certifi>=2017.4.17 in /usr/local/lib/python3.12/dist-packages (from requests<3.0.0,>=2.21.0->google-cloud-bigquery) (2025.8.3)\n",
            "Requirement already satisfied: pyasn1<0.7.0,>=0.6.1 in /usr/local/lib/python3.12/dist-packages (from pyasn1-modules>=0.2.1->google-auth<3.0.0,>=2.14.1->google-cloud-bigquery) (0.6.1)\n"
          ]
        }
      ]
    },
    {
      "cell_type": "markdown",
      "metadata": {
        "id": "5ef1e23e"
      },
      "source": [
        "## Authenticate to google cloud\n",
        "\n",
        "### Subtask:\n",
        "Authenticate your Colab environment to access Google Cloud services, including BigQuery.\n"
      ]
    },
    {
      "cell_type": "markdown",
      "metadata": {
        "id": "d1141552"
      },
      "source": [
        "**Reasoning**:\n",
        "Authenticate the user to access Google Cloud services, including BigQuery.\n",
        "\n"
      ]
    },
    {
      "cell_type": "code",
      "metadata": {
        "id": "5d96fcac"
      },
      "source": [
        "from google.colab import auth\n",
        "auth.authenticate_user()"
      ],
      "execution_count": 2,
      "outputs": []
    },
    {
      "cell_type": "markdown",
      "metadata": {
        "id": "e95387f5"
      },
      "source": [
        "## Initialize a bigquery client\n",
        "\n",
        "### Subtask:\n",
        "Create a BigQuery client object to interact with the BigQuery API.\n"
      ]
    },
    {
      "cell_type": "markdown",
      "metadata": {
        "id": "9cb08499"
      },
      "source": [
        "**Reasoning**:\n",
        "Import the bigquery class and instantiate a client object as instructed.\n",
        "\n"
      ]
    },
    {
      "cell_type": "code",
      "metadata": {
        "id": "6ef54fcb"
      },
      "source": [
        "from google.cloud import bigquery\n",
        "\n",
        "client = bigquery.Client()"
      ],
      "execution_count": 3,
      "outputs": []
    },
    {
      "cell_type": "code",
      "source": [
        "# Core libraries\n",
        "import pandas as pd\n",
        "from google.cloud import bigquery\n",
        "\n",
        "# ML + preprocessing\n",
        "from sklearn.model_selection import train_test_split\n",
        "from sklearn.preprocessing import OneHotEncoder\n",
        "from sklearn.compose import ColumnTransformer\n",
        "from sklearn.pipeline import Pipeline\n",
        "from sklearn.ensemble import RandomForestRegressor\n",
        "from sklearn.metrics import mean_squared_error, r2_score"
      ],
      "metadata": {
        "id": "3kriHoJCPsUj"
      },
      "execution_count": 4,
      "outputs": []
    },
    {
      "cell_type": "markdown",
      "metadata": {
        "id": "4cfaf5df"
      },
      "source": [
        "## Construct a sql query\n",
        "\n",
        "### Subtask:\n",
        "Write a SQL query to select the data you want to import.\n"
      ]
    },
    {
      "cell_type": "markdown",
      "metadata": {
        "id": "d3652a08"
      },
      "source": [
        "**Reasoning**:\n",
        "Define a SQL query string to select data from the BigQuery public dataset.\n",
        "\n"
      ]
    },
    {
      "cell_type": "code",
      "source": [
        "sql_query = \"\"\"\n",
        "SELECT\n",
        "  fare,\n",
        "  trip_miles,\n",
        "  pickup_community_area,\n",
        "  dropoff_community_area,\n",
        "  company,\n",
        "  payment_type,\n",
        "  EXTRACT(HOUR FROM trip_start_timestamp) AS trip_hour,\n",
        "  EXTRACT(DAYOFWEEK FROM trip_start_timestamp) AS trip_dayofweek,\n",
        "  EXTRACT(MONTH FROM trip_start_timestamp) AS trip_month,\n",
        "  CASE\n",
        "    WHEN EXTRACT(MONTH FROM trip_start_timestamp) IN (12, 1, 2) THEN 'winter'\n",
        "    WHEN EXTRACT(MONTH FROM trip_start_timestamp) IN (3, 4, 5) THEN 'spring'\n",
        "    WHEN EXTRACT(MONTH FROM trip_start_timestamp) IN (6, 7, 8) THEN 'summer'\n",
        "    ELSE 'fall'\n",
        "  END AS trip_season\n",
        "FROM `bigquery-public-data.chicago_taxi_trips.taxi_trips`\n",
        "WHERE\n",
        "  EXTRACT(YEAR FROM trip_start_timestamp) = 2023\n",
        "  AND fare > 0\n",
        "  AND fare < 500\n",
        "  AND trip_miles > 0\n",
        "  AND trip_miles < 200\n",
        "  AND pickup_community_area IS NOT NULL\n",
        "  AND dropoff_community_area IS NOT NULL\n",
        "  AND company IS NOT NULL\n",
        "  AND payment_type IS NOT NULL\n",
        "LIMIT 100000\n",
        "\"\"\""
      ],
      "metadata": {
        "id": "GBpK44yXMKu3"
      },
      "execution_count": 5,
      "outputs": []
    },
    {
      "cell_type": "markdown",
      "metadata": {
        "id": "c2068ed5"
      },
      "source": [
        "## Run the query and load data into a dataframe\n",
        "\n",
        "\n",
        "### Subtask:\n",
        "Execute the query and load the results into a pandas DataFrame.\n"
      ]
    },
    {
      "cell_type": "markdown",
      "metadata": {
        "id": "9ac83b2b"
      },
      "source": [
        "**Reasoning**:\n",
        "Execute the SQL query using the BigQuery client and load the results into a pandas DataFrame.\n",
        "\n"
      ]
    },
    {
      "cell_type": "code",
      "metadata": {
        "id": "N0uNcf7xyjwu",
        "colab": {
          "base_uri": "https://localhost:8080/",
          "height": 206
        },
        "outputId": "4a999d6c-c37f-4b88-9ef7-be1ff964e266"
      },
      "source": [
        "client = bigquery.Client(project=\"orbital-wording-467712-c8\")\n",
        "df = client.query(sql_query).to_dataframe()\n",
        "display(df.head())"
      ],
      "execution_count": 6,
      "outputs": [
        {
          "output_type": "display_data",
          "data": {
            "text/plain": [
              "   fare  trip_miles  pickup_community_area  dropoff_community_area  \\\n",
              "0   4.0        0.35                     32                      32   \n",
              "1  12.5        2.82                      8                       8   \n",
              "2   6.0        1.00                     32                      28   \n",
              "3   9.0        1.17                      8                      28   \n",
              "4   7.5        1.39                     28                      28   \n",
              "\n",
              "                          company payment_type  trip_hour  trip_dayofweek  \\\n",
              "0                Medallion Leasin         Cash         18               7   \n",
              "1    Taxicab Insurance Agency Llc  Credit Card         20               7   \n",
              "2       Taxi Affiliation Services         Cash         13               7   \n",
              "3            Chicago Independents       Mobile         15               7   \n",
              "4  Star North Taxi Management Llc         Cash         18               7   \n",
              "\n",
              "   trip_month trip_season  \n",
              "0           9        fall  \n",
              "1           9        fall  \n",
              "2           9        fall  \n",
              "3           9        fall  \n",
              "4           9        fall  "
            ],
            "text/html": [
              "\n",
              "  <div id=\"df-5736ac69-156d-4b5a-a93f-a4894de1ed5b\" class=\"colab-df-container\">\n",
              "    <div>\n",
              "<style scoped>\n",
              "    .dataframe tbody tr th:only-of-type {\n",
              "        vertical-align: middle;\n",
              "    }\n",
              "\n",
              "    .dataframe tbody tr th {\n",
              "        vertical-align: top;\n",
              "    }\n",
              "\n",
              "    .dataframe thead th {\n",
              "        text-align: right;\n",
              "    }\n",
              "</style>\n",
              "<table border=\"1\" class=\"dataframe\">\n",
              "  <thead>\n",
              "    <tr style=\"text-align: right;\">\n",
              "      <th></th>\n",
              "      <th>fare</th>\n",
              "      <th>trip_miles</th>\n",
              "      <th>pickup_community_area</th>\n",
              "      <th>dropoff_community_area</th>\n",
              "      <th>company</th>\n",
              "      <th>payment_type</th>\n",
              "      <th>trip_hour</th>\n",
              "      <th>trip_dayofweek</th>\n",
              "      <th>trip_month</th>\n",
              "      <th>trip_season</th>\n",
              "    </tr>\n",
              "  </thead>\n",
              "  <tbody>\n",
              "    <tr>\n",
              "      <th>0</th>\n",
              "      <td>4.0</td>\n",
              "      <td>0.35</td>\n",
              "      <td>32</td>\n",
              "      <td>32</td>\n",
              "      <td>Medallion Leasin</td>\n",
              "      <td>Cash</td>\n",
              "      <td>18</td>\n",
              "      <td>7</td>\n",
              "      <td>9</td>\n",
              "      <td>fall</td>\n",
              "    </tr>\n",
              "    <tr>\n",
              "      <th>1</th>\n",
              "      <td>12.5</td>\n",
              "      <td>2.82</td>\n",
              "      <td>8</td>\n",
              "      <td>8</td>\n",
              "      <td>Taxicab Insurance Agency Llc</td>\n",
              "      <td>Credit Card</td>\n",
              "      <td>20</td>\n",
              "      <td>7</td>\n",
              "      <td>9</td>\n",
              "      <td>fall</td>\n",
              "    </tr>\n",
              "    <tr>\n",
              "      <th>2</th>\n",
              "      <td>6.0</td>\n",
              "      <td>1.00</td>\n",
              "      <td>32</td>\n",
              "      <td>28</td>\n",
              "      <td>Taxi Affiliation Services</td>\n",
              "      <td>Cash</td>\n",
              "      <td>13</td>\n",
              "      <td>7</td>\n",
              "      <td>9</td>\n",
              "      <td>fall</td>\n",
              "    </tr>\n",
              "    <tr>\n",
              "      <th>3</th>\n",
              "      <td>9.0</td>\n",
              "      <td>1.17</td>\n",
              "      <td>8</td>\n",
              "      <td>28</td>\n",
              "      <td>Chicago Independents</td>\n",
              "      <td>Mobile</td>\n",
              "      <td>15</td>\n",
              "      <td>7</td>\n",
              "      <td>9</td>\n",
              "      <td>fall</td>\n",
              "    </tr>\n",
              "    <tr>\n",
              "      <th>4</th>\n",
              "      <td>7.5</td>\n",
              "      <td>1.39</td>\n",
              "      <td>28</td>\n",
              "      <td>28</td>\n",
              "      <td>Star North Taxi Management Llc</td>\n",
              "      <td>Cash</td>\n",
              "      <td>18</td>\n",
              "      <td>7</td>\n",
              "      <td>9</td>\n",
              "      <td>fall</td>\n",
              "    </tr>\n",
              "  </tbody>\n",
              "</table>\n",
              "</div>\n",
              "    <div class=\"colab-df-buttons\">\n",
              "\n",
              "  <div class=\"colab-df-container\">\n",
              "    <button class=\"colab-df-convert\" onclick=\"convertToInteractive('df-5736ac69-156d-4b5a-a93f-a4894de1ed5b')\"\n",
              "            title=\"Convert this dataframe to an interactive table.\"\n",
              "            style=\"display:none;\">\n",
              "\n",
              "  <svg xmlns=\"http://www.w3.org/2000/svg\" height=\"24px\" viewBox=\"0 -960 960 960\">\n",
              "    <path d=\"M120-120v-720h720v720H120Zm60-500h600v-160H180v160Zm220 220h160v-160H400v160Zm0 220h160v-160H400v160ZM180-400h160v-160H180v160Zm440 0h160v-160H620v160ZM180-180h160v-160H180v160Zm440 0h160v-160H620v160Z\"/>\n",
              "  </svg>\n",
              "    </button>\n",
              "\n",
              "  <style>\n",
              "    .colab-df-container {\n",
              "      display:flex;\n",
              "      gap: 12px;\n",
              "    }\n",
              "\n",
              "    .colab-df-convert {\n",
              "      background-color: #E8F0FE;\n",
              "      border: none;\n",
              "      border-radius: 50%;\n",
              "      cursor: pointer;\n",
              "      display: none;\n",
              "      fill: #1967D2;\n",
              "      height: 32px;\n",
              "      padding: 0 0 0 0;\n",
              "      width: 32px;\n",
              "    }\n",
              "\n",
              "    .colab-df-convert:hover {\n",
              "      background-color: #E2EBFA;\n",
              "      box-shadow: 0px 1px 2px rgba(60, 64, 67, 0.3), 0px 1px 3px 1px rgba(60, 64, 67, 0.15);\n",
              "      fill: #174EA6;\n",
              "    }\n",
              "\n",
              "    .colab-df-buttons div {\n",
              "      margin-bottom: 4px;\n",
              "    }\n",
              "\n",
              "    [theme=dark] .colab-df-convert {\n",
              "      background-color: #3B4455;\n",
              "      fill: #D2E3FC;\n",
              "    }\n",
              "\n",
              "    [theme=dark] .colab-df-convert:hover {\n",
              "      background-color: #434B5C;\n",
              "      box-shadow: 0px 1px 3px 1px rgba(0, 0, 0, 0.15);\n",
              "      filter: drop-shadow(0px 1px 2px rgba(0, 0, 0, 0.3));\n",
              "      fill: #FFFFFF;\n",
              "    }\n",
              "  </style>\n",
              "\n",
              "    <script>\n",
              "      const buttonEl =\n",
              "        document.querySelector('#df-5736ac69-156d-4b5a-a93f-a4894de1ed5b button.colab-df-convert');\n",
              "      buttonEl.style.display =\n",
              "        google.colab.kernel.accessAllowed ? 'block' : 'none';\n",
              "\n",
              "      async function convertToInteractive(key) {\n",
              "        const element = document.querySelector('#df-5736ac69-156d-4b5a-a93f-a4894de1ed5b');\n",
              "        const dataTable =\n",
              "          await google.colab.kernel.invokeFunction('convertToInteractive',\n",
              "                                                    [key], {});\n",
              "        if (!dataTable) return;\n",
              "\n",
              "        const docLinkHtml = 'Like what you see? Visit the ' +\n",
              "          '<a target=\"_blank\" href=https://colab.research.google.com/notebooks/data_table.ipynb>data table notebook</a>'\n",
              "          + ' to learn more about interactive tables.';\n",
              "        element.innerHTML = '';\n",
              "        dataTable['output_type'] = 'display_data';\n",
              "        await google.colab.output.renderOutput(dataTable, element);\n",
              "        const docLink = document.createElement('div');\n",
              "        docLink.innerHTML = docLinkHtml;\n",
              "        element.appendChild(docLink);\n",
              "      }\n",
              "    </script>\n",
              "  </div>\n",
              "\n",
              "\n",
              "    <div id=\"df-7df173bf-eb94-4f31-95a5-f5985b138331\">\n",
              "      <button class=\"colab-df-quickchart\" onclick=\"quickchart('df-7df173bf-eb94-4f31-95a5-f5985b138331')\"\n",
              "                title=\"Suggest charts\"\n",
              "                style=\"display:none;\">\n",
              "\n",
              "<svg xmlns=\"http://www.w3.org/2000/svg\" height=\"24px\"viewBox=\"0 0 24 24\"\n",
              "     width=\"24px\">\n",
              "    <g>\n",
              "        <path d=\"M19 3H5c-1.1 0-2 .9-2 2v14c0 1.1.9 2 2 2h14c1.1 0 2-.9 2-2V5c0-1.1-.9-2-2-2zM9 17H7v-7h2v7zm4 0h-2V7h2v10zm4 0h-2v-4h2v4z\"/>\n",
              "    </g>\n",
              "</svg>\n",
              "      </button>\n",
              "\n",
              "<style>\n",
              "  .colab-df-quickchart {\n",
              "      --bg-color: #E8F0FE;\n",
              "      --fill-color: #1967D2;\n",
              "      --hover-bg-color: #E2EBFA;\n",
              "      --hover-fill-color: #174EA6;\n",
              "      --disabled-fill-color: #AAA;\n",
              "      --disabled-bg-color: #DDD;\n",
              "  }\n",
              "\n",
              "  [theme=dark] .colab-df-quickchart {\n",
              "      --bg-color: #3B4455;\n",
              "      --fill-color: #D2E3FC;\n",
              "      --hover-bg-color: #434B5C;\n",
              "      --hover-fill-color: #FFFFFF;\n",
              "      --disabled-bg-color: #3B4455;\n",
              "      --disabled-fill-color: #666;\n",
              "  }\n",
              "\n",
              "  .colab-df-quickchart {\n",
              "    background-color: var(--bg-color);\n",
              "    border: none;\n",
              "    border-radius: 50%;\n",
              "    cursor: pointer;\n",
              "    display: none;\n",
              "    fill: var(--fill-color);\n",
              "    height: 32px;\n",
              "    padding: 0;\n",
              "    width: 32px;\n",
              "  }\n",
              "\n",
              "  .colab-df-quickchart:hover {\n",
              "    background-color: var(--hover-bg-color);\n",
              "    box-shadow: 0 1px 2px rgba(60, 64, 67, 0.3), 0 1px 3px 1px rgba(60, 64, 67, 0.15);\n",
              "    fill: var(--button-hover-fill-color);\n",
              "  }\n",
              "\n",
              "  .colab-df-quickchart-complete:disabled,\n",
              "  .colab-df-quickchart-complete:disabled:hover {\n",
              "    background-color: var(--disabled-bg-color);\n",
              "    fill: var(--disabled-fill-color);\n",
              "    box-shadow: none;\n",
              "  }\n",
              "\n",
              "  .colab-df-spinner {\n",
              "    border: 2px solid var(--fill-color);\n",
              "    border-color: transparent;\n",
              "    border-bottom-color: var(--fill-color);\n",
              "    animation:\n",
              "      spin 1s steps(1) infinite;\n",
              "  }\n",
              "\n",
              "  @keyframes spin {\n",
              "    0% {\n",
              "      border-color: transparent;\n",
              "      border-bottom-color: var(--fill-color);\n",
              "      border-left-color: var(--fill-color);\n",
              "    }\n",
              "    20% {\n",
              "      border-color: transparent;\n",
              "      border-left-color: var(--fill-color);\n",
              "      border-top-color: var(--fill-color);\n",
              "    }\n",
              "    30% {\n",
              "      border-color: transparent;\n",
              "      border-left-color: var(--fill-color);\n",
              "      border-top-color: var(--fill-color);\n",
              "      border-right-color: var(--fill-color);\n",
              "    }\n",
              "    40% {\n",
              "      border-color: transparent;\n",
              "      border-right-color: var(--fill-color);\n",
              "      border-top-color: var(--fill-color);\n",
              "    }\n",
              "    60% {\n",
              "      border-color: transparent;\n",
              "      border-right-color: var(--fill-color);\n",
              "    }\n",
              "    80% {\n",
              "      border-color: transparent;\n",
              "      border-right-color: var(--fill-color);\n",
              "      border-bottom-color: var(--fill-color);\n",
              "    }\n",
              "    90% {\n",
              "      border-color: transparent;\n",
              "      border-bottom-color: var(--fill-color);\n",
              "    }\n",
              "  }\n",
              "</style>\n",
              "\n",
              "      <script>\n",
              "        async function quickchart(key) {\n",
              "          const quickchartButtonEl =\n",
              "            document.querySelector('#' + key + ' button');\n",
              "          quickchartButtonEl.disabled = true;  // To prevent multiple clicks.\n",
              "          quickchartButtonEl.classList.add('colab-df-spinner');\n",
              "          try {\n",
              "            const charts = await google.colab.kernel.invokeFunction(\n",
              "                'suggestCharts', [key], {});\n",
              "          } catch (error) {\n",
              "            console.error('Error during call to suggestCharts:', error);\n",
              "          }\n",
              "          quickchartButtonEl.classList.remove('colab-df-spinner');\n",
              "          quickchartButtonEl.classList.add('colab-df-quickchart-complete');\n",
              "        }\n",
              "        (() => {\n",
              "          let quickchartButtonEl =\n",
              "            document.querySelector('#df-7df173bf-eb94-4f31-95a5-f5985b138331 button');\n",
              "          quickchartButtonEl.style.display =\n",
              "            google.colab.kernel.accessAllowed ? 'block' : 'none';\n",
              "        })();\n",
              "      </script>\n",
              "    </div>\n",
              "\n",
              "    </div>\n",
              "  </div>\n"
            ],
            "application/vnd.google.colaboratory.intrinsic+json": {
              "type": "dataframe",
              "summary": "{\n  \"name\": \"display(df\",\n  \"rows\": 5,\n  \"fields\": [\n    {\n      \"column\": \"fare\",\n      \"properties\": {\n        \"dtype\": \"number\",\n        \"std\": 3.2132538026119257,\n        \"min\": 4.0,\n        \"max\": 12.5,\n        \"num_unique_values\": 5,\n        \"samples\": [\n          12.5,\n          7.5,\n          6.0\n        ],\n        \"semantic_type\": \"\",\n        \"description\": \"\"\n      }\n    },\n    {\n      \"column\": \"trip_miles\",\n      \"properties\": {\n        \"dtype\": \"number\",\n        \"std\": 0.9106755734069075,\n        \"min\": 0.35,\n        \"max\": 2.82,\n        \"num_unique_values\": 5,\n        \"samples\": [\n          2.82,\n          1.39,\n          1.0\n        ],\n        \"semantic_type\": \"\",\n        \"description\": \"\"\n      }\n    },\n    {\n      \"column\": \"pickup_community_area\",\n      \"properties\": {\n        \"dtype\": \"Int64\",\n        \"num_unique_values\": 3,\n        \"samples\": [\n          32,\n          8,\n          28\n        ],\n        \"semantic_type\": \"\",\n        \"description\": \"\"\n      }\n    },\n    {\n      \"column\": \"dropoff_community_area\",\n      \"properties\": {\n        \"dtype\": \"Int64\",\n        \"num_unique_values\": 3,\n        \"samples\": [\n          32,\n          8,\n          28\n        ],\n        \"semantic_type\": \"\",\n        \"description\": \"\"\n      }\n    },\n    {\n      \"column\": \"company\",\n      \"properties\": {\n        \"dtype\": \"string\",\n        \"num_unique_values\": 5,\n        \"samples\": [\n          \"Taxicab Insurance Agency Llc\",\n          \"Star North Taxi Management Llc\",\n          \"Taxi Affiliation Services\"\n        ],\n        \"semantic_type\": \"\",\n        \"description\": \"\"\n      }\n    },\n    {\n      \"column\": \"payment_type\",\n      \"properties\": {\n        \"dtype\": \"string\",\n        \"num_unique_values\": 3,\n        \"samples\": [\n          \"Cash\",\n          \"Credit Card\",\n          \"Mobile\"\n        ],\n        \"semantic_type\": \"\",\n        \"description\": \"\"\n      }\n    },\n    {\n      \"column\": \"trip_hour\",\n      \"properties\": {\n        \"dtype\": \"Int64\",\n        \"num_unique_values\": 4,\n        \"samples\": [\n          20,\n          15,\n          18\n        ],\n        \"semantic_type\": \"\",\n        \"description\": \"\"\n      }\n    },\n    {\n      \"column\": \"trip_dayofweek\",\n      \"properties\": {\n        \"dtype\": \"Int64\",\n        \"num_unique_values\": 1,\n        \"samples\": [\n          7\n        ],\n        \"semantic_type\": \"\",\n        \"description\": \"\"\n      }\n    },\n    {\n      \"column\": \"trip_month\",\n      \"properties\": {\n        \"dtype\": \"Int64\",\n        \"num_unique_values\": 1,\n        \"samples\": [\n          9\n        ],\n        \"semantic_type\": \"\",\n        \"description\": \"\"\n      }\n    },\n    {\n      \"column\": \"trip_season\",\n      \"properties\": {\n        \"dtype\": \"category\",\n        \"num_unique_values\": 1,\n        \"samples\": [\n          \"fall\"\n        ],\n        \"semantic_type\": \"\",\n        \"description\": \"\"\n      }\n    }\n  ]\n}"
            }
          },
          "metadata": {}
        }
      ]
    },
    {
      "cell_type": "code",
      "source": [
        "X = df.drop(columns=[\"fare\"])\n",
        "y = df[\"fare\"]\n",
        "\n",
        "X_train, X_test, y_train, y_test = train_test_split(\n",
        "    X, y, test_size=0.2, random_state=42\n",
        ")"
      ],
      "metadata": {
        "id": "EoOhMTvZMzH8"
      },
      "execution_count": 7,
      "outputs": []
    },
    {
      "cell_type": "markdown",
      "source": [
        "# Define categorical vs numeric columns"
      ],
      "metadata": {
        "id": "rOahMLEYQSnh"
      }
    },
    {
      "cell_type": "code",
      "source": [
        "# Define categorical and numeric columns (based on your new SQL)\n",
        "categorical_cols = [\n",
        "    \"company\",\n",
        "    \"payment_type\",\n",
        "    \"pickup_community_area\",\n",
        "    \"dropoff_community_area\",\n",
        "    \"trip_dayofweek\",\n",
        "    \"trip_month\",\n",
        "    \"trip_season\"\n",
        "]\n",
        "\n",
        "numeric_cols = [\n",
        "    \"trip_miles\",\n",
        "    \"trip_hour\"\n",
        "]"
      ],
      "metadata": {
        "id": "SvtYtF8DQSFj"
      },
      "execution_count": 8,
      "outputs": []
    },
    {
      "cell_type": "markdown",
      "metadata": {
        "id": "41d85b71"
      },
      "source": [
        "# Task\n",
        "Train a regression model to predict taxi fare based on the provided data description."
      ]
    },
    {
      "cell_type": "markdown",
      "metadata": {
        "id": "ab803589"
      },
      "source": [
        "## Preprocess the data\n",
        "\n",
        "### Subtask:\n",
        "Handle categorical features by applying one-hot encoding.\n"
      ]
    },
    {
      "cell_type": "markdown",
      "metadata": {
        "id": "fe0ff5e1"
      },
      "source": [
        "**Reasoning**:\n",
        "Apply one-hot encoding to the categorical columns in the training and test sets and combine them with the numerical features.\n",
        "\n"
      ]
    },
    {
      "cell_type": "code",
      "metadata": {
        "id": "mhHN4U9bNLUj"
      },
      "source": [
        "# Preprocessor: one-hot encode categoricals, keep numeric\n",
        "preprocessor = ColumnTransformer(\n",
        "    transformers=[\n",
        "        (\"cat\", OneHotEncoder(handle_unknown=\"ignore\"), categorical_cols),\n",
        "        (\"num\", \"passthrough\", numeric_cols),\n",
        "    ]\n",
        ")\n",
        "\n",
        "# Model pipeline\n",
        "from sklearn.pipeline import Pipeline\n",
        "from sklearn.ensemble import RandomForestRegressor\n",
        "\n",
        "model = Pipeline(steps=[\n",
        "    (\"preprocessor\", preprocessor),\n",
        "    (\"regressor\", RandomForestRegressor(random_state=42))\n",
        "])\n"
      ],
      "execution_count": 9,
      "outputs": []
    },
    {
      "cell_type": "markdown",
      "metadata": {
        "id": "b62e23d8"
      },
      "source": [
        "## Train a regression model\n",
        "\n",
        "### Subtask:\n",
        "Choose and train a suitable regression model using the training data.\n"
      ]
    },
    {
      "cell_type": "markdown",
      "metadata": {
        "id": "272ae4f9"
      },
      "source": [
        "**Reasoning**:\n",
        "Import the RandomForestRegressor model and train it on the preprocessed training data.\n",
        "\n"
      ]
    },
    {
      "cell_type": "code",
      "metadata": {
        "id": "572f58e9",
        "colab": {
          "base_uri": "https://localhost:8080/"
        },
        "outputId": "f67b9a51-c821-4bd1-ed1f-767f8c83d0ce"
      },
      "source": [
        "# Train\n",
        "model.fit(X_train, y_train)\n",
        "\n",
        "# Predict\n",
        "from sklearn.metrics import mean_squared_error, r2_score\n",
        "\n",
        "y_pred = model.predict(X_test)\n",
        "\n",
        "# Evaluate\n",
        "mse = mean_squared_error(y_test, y_pred)\n",
        "rmse = mse ** 0.5\n",
        "r2 = r2_score(y_test, y_pred)\n",
        "\n",
        "print(f\"Mean Squared Error: {mse:.2f}\")\n",
        "print(f\"Root Mean Squared Error: {rmse:.2f}\")\n",
        "print(f\"R-squared: {r2:.4f}\")"
      ],
      "execution_count": 10,
      "outputs": [
        {
          "output_type": "stream",
          "name": "stdout",
          "text": [
            "Mean Squared Error: 15.81\n",
            "Root Mean Squared Error: 3.98\n",
            "R-squared: 0.9342\n"
          ]
        }
      ]
    },
    {
      "cell_type": "markdown",
      "metadata": {
        "id": "207f45a7"
      },
      "source": [
        "## Make predictions\n",
        "\n",
        "### Subtask:\n",
        "Use the trained model to make predictions on the test set.\n"
      ]
    },
    {
      "cell_type": "markdown",
      "metadata": {
        "id": "58f11780"
      },
      "source": [
        "**Reasoning**:\n",
        "Utilize the trained regression model to generate predictions for the taxi fares based on the features in the `X_test` DataFrame and store the predicted values.\n",
        "\n"
      ]
    },
    {
      "cell_type": "code",
      "source": [
        "# Example: Comparing the first 10 actual vs predicted fares\n",
        "comparison_df = pd.DataFrame({'Actual Fare': y_test.head(10), 'Predicted Fare': y_pred[:10]})\n",
        "print(comparison_df)"
      ],
      "metadata": {
        "id": "aijaK3JJU-SO",
        "colab": {
          "base_uri": "https://localhost:8080/"
        },
        "outputId": "faee9813-ded0-498b-99fe-2611c3472bd7"
      },
      "execution_count": 11,
      "outputs": [
        {
          "output_type": "stream",
          "name": "stdout",
          "text": [
            "       Actual Fare  Predicted Fare\n",
            "75721        48.25       49.977500\n",
            "80184         6.75        6.637500\n",
            "19864        21.00       23.760600\n",
            "76699        25.00       24.827500\n",
            "92991        20.00       11.027800\n",
            "76434         8.50        8.150000\n",
            "84004        47.75       47.827500\n",
            "80917         8.25        8.344433\n",
            "60767        42.25       40.897500\n",
            "50074         5.25        7.225000\n"
          ]
        }
      ]
    },
    {
      "cell_type": "code",
      "source": [
        "import matplotlib.pyplot as plt\n",
        "\n",
        "plt.scatter(y_test, y_pred, alpha=0.3)\n",
        "plt.xlabel(\"Actual Fare\")\n",
        "plt.ylabel(\"Predicted Fare\")\n",
        "plt.title(\"Actual vs. Predicted Taxi Fares\")\n",
        "plt.show()"
      ],
      "metadata": {
        "id": "u15g2tx1VAOM",
        "colab": {
          "base_uri": "https://localhost:8080/",
          "height": 472
        },
        "outputId": "818a70bf-c7bb-4f5c-8857-0f9f77227b12"
      },
      "execution_count": 12,
      "outputs": [
        {
          "output_type": "display_data",
          "data": {
            "text/plain": [
              "<Figure size 640x480 with 1 Axes>"
            ],
            "image/png": "[encoded data removed]"
          },
          "metadata": {}
        }
      ]
    },
    {
      "cell_type": "code",
      "source": [
        "def predict_fare(trip_miles, company, payment_type,\n",
        "                 pickup_area, dropoff_area,\n",
        "                 trip_hour, trip_dayofweek, trip_month, trip_season):\n",
        "    # Create a single-row dataframe with the same feature columns\n",
        "    input_data = pd.DataFrame([{\n",
        "        \"trip_miles\": trip_miles,\n",
        "        \"company\": company,\n",
        "        \"payment_type\": payment_type,\n",
        "        \"pickup_community_area\": pickup_area,\n",
        "        \"dropoff_community_area\": dropoff_area,\n",
        "        \"trip_hour\": trip_hour,\n",
        "        \"trip_dayofweek\": trip_dayofweek,\n",
        "        \"trip_month\": trip_month,\n",
        "        \"trip_season\": trip_season\n",
        "    }])\n",
        "\n",
        "    # Predict using trained pipeline\n",
        "    return model.predict(input_data)[0]\n"
      ],
      "metadata": {
        "id": "D74anC0FV-lM"
      },
      "execution_count": 13,
      "outputs": []
    },
    {
      "cell_type": "code",
      "source": [
        "predicted_fare = predict_fare(\n",
        "    trip_miles=5.2,\n",
        "    company=\"MyFleet\",          # or pick an existing company seen in training\n",
        "    payment_type=\"Cash\",\n",
        "    pickup_area=8,\n",
        "    dropoff_area=32,\n",
        "    trip_hour=18,               # 6 PM\n",
        "    trip_dayofweek=5,           # Friday\n",
        "    trip_month=9,               # September\n",
        "    trip_season=\"fall\"\n",
        ")\n",
        "\n",
        "print(f\"Suggested fare: ${predicted_fare:.2f}\")\n"
      ],
      "metadata": {
        "id": "tvIhgmrqV_wc",
        "colab": {
          "base_uri": "https://localhost:8080/"
        },
        "outputId": "7b40563e-09f7-491d-e9f0-35360b7b5f2b"
      },
      "execution_count": 14,
      "outputs": [
        {
          "output_type": "stream",
          "name": "stdout",
          "text": [
            "Suggested fare: $18.63\n"
          ]
        }
      ]
    },
    {
      "cell_type": "markdown",
      "metadata": {
        "id": "ee822748"
      },
      "source": [
        "## Train Linear Regression Model\n",
        "\n",
        "### Subtask:\n",
        "Train a Linear Regression model on the training data."
      ]
    },
    {
      "cell_type": "markdown",
      "metadata": {
        "id": "8e8d9f9d"
      },
      "source": [
        "**Reasoning**:\n",
        "Import and train a Linear Regression model using the preprocessed training data."
      ]
    },
    {
      "cell_type": "code",
      "metadata": {
        "id": "066a9c48",
        "colab": {
          "base_uri": "https://localhost:8080/"
        },
        "outputId": "410358a1-96e2-46b7-ec5d-b6822154d4b0"
      },
      "source": [
        "from sklearn.linear_model import LinearRegression\n",
        "\n",
        "# Create a pipeline with Linear Regression\n",
        "model_lr = Pipeline(steps=[\n",
        "    (\"preprocessor\", preprocessor),\n",
        "    (\"regressor\", LinearRegression())\n",
        "])\n",
        "\n",
        "# Train the Linear Regression model\n",
        "model_lr.fit(X_train, y_train)\n",
        "\n",
        "# Predict using the Linear Regression model\n",
        "y_pred_lr = model_lr.predict(X_test)\n",
        "\n",
        "# Evaluate the Linear Regression model\n",
        "mse_lr = mean_squared_error(y_test, y_pred_lr)\n",
        "rmse_lr = mse_lr ** 0.5\n",
        "r2_lr = r2_score(y_test, y_pred_lr)\n",
        "\n",
        "print(f\"Linear Regression Model Metrics:\")\n",
        "print(f\"Mean Squared Error: {mse_lr:.2f}\")\n",
        "print(f\"Root Mean Squared Error: {rmse_lr:.2f}\")\n",
        "print(f\"R-squared: {r2_lr:.4f}\")"
      ],
      "execution_count": 15,
      "outputs": [
        {
          "output_type": "stream",
          "name": "stdout",
          "text": [
            "Linear Regression Model Metrics:\n",
            "Mean Squared Error: 33.49\n",
            "Root Mean Squared Error: 5.79\n",
            "R-squared: 0.8606\n"
          ]
        }
      ]
    },
    {
      "cell_type": "markdown",
      "metadata": {
        "id": "d5fca932"
      },
      "source": [
        "## Train Gradient Boosting Regression Model\n",
        "\n",
        "### Subtask:\n",
        "Train a Gradient Boosting Regression model on the training data."
      ]
    },
    {
      "cell_type": "markdown",
      "metadata": {
        "id": "b926f9e1"
      },
      "source": [
        "**Reasoning**:\n",
        "Import and train a Gradient Boosting Regression model using the preprocessed training data."
      ]
    },
    {
      "cell_type": "code",
      "metadata": {
        "id": "f53759f6",
        "colab": {
          "base_uri": "https://localhost:8080/"
        },
        "outputId": "a6bf689a-df6e-468a-80ed-939e2567607a"
      },
      "source": [
        "from sklearn.ensemble import GradientBoostingRegressor\n",
        "\n",
        "# Create a pipeline with Gradient Boosting Regressor\n",
        "model_gb = Pipeline(steps=[\n",
        "    (\"preprocessor\", preprocessor),\n",
        "    (\"regressor\", GradientBoostingRegressor(random_state=42))\n",
        "])\n",
        "\n",
        "# Train the Gradient Boosting model\n",
        "model_gb.fit(X_train, y_train)\n",
        "\n",
        "# Predict using the Gradient Boosting model\n",
        "y_pred_gb = model_gb.predict(X_test)\n",
        "\n",
        "# Evaluate the Gradient Boosting model\n",
        "mse_gb = mean_squared_error(y_test, y_pred_gb)\n",
        "rmse_gb = mse_gb ** 0.5\n",
        "r2_gb = r2_score(y_test, y_pred_gb)\n",
        "\n",
        "print(f\"Gradient Boosting Model Metrics:\")\n",
        "print(f\"Mean Squared Error: {mse_gb:.2f}\")\n",
        "print(f\"Root Mean Squared Error: {rmse_gb:.2f}\")\n",
        "print(f\"R-squared: {r2_gb:.4f}\")"
      ],
      "execution_count": 16,
      "outputs": [
        {
          "output_type": "stream",
          "name": "stdout",
          "text": [
            "Gradient Boosting Model Metrics:\n",
            "Mean Squared Error: 20.60\n",
            "Root Mean Squared Error: 4.54\n",
            "R-squared: 0.9143\n"
          ]
        }
      ]
    },
    {
      "cell_type": "markdown",
      "metadata": {
        "id": "8c3e5cfb"
      },
      "source": [
        "## Compare Model Results\n",
        "\n",
        "### Subtask:\n",
        "Compare the performance metrics of the trained models."
      ]
    },
    {
      "cell_type": "markdown",
      "metadata": {
        "id": "3a3e9ee8"
      },
      "source": [
        "**Reasoning**:\n",
        "Create a DataFrame to compare the evaluation metrics (MSE, RMSE, and R-squared) for the Random Forest, Linear Regression, and Gradient Boosting models and display the results."
      ]
    },
    {
      "cell_type": "code",
      "metadata": {
        "colab": {
          "base_uri": "https://localhost:8080/",
          "height": 143
        },
        "id": "20518dc6",
        "outputId": "d009d503-f26f-45be-b63a-0c4670204cf7"
      },
      "source": [
        "# Create a dictionary to store the metrics\n",
        "model_comparison = {\n",
        "    'Model': ['Random Forest', 'Linear Regression', 'Gradient Boosting'],\n",
        "    'MSE': [mse, mse_lr, mse_gb],\n",
        "    'RMSE': [rmse, rmse_lr, rmse_gb],\n",
        "    'R-squared': [r2, r2_lr, r2_gb]\n",
        "}\n",
        "\n",
        "# Create a DataFrame from the dictionary\n",
        "comparison_df = pd.DataFrame(model_comparison)\n",
        "\n",
        "# Display the comparison table\n",
        "display(comparison_df)"
      ],
      "execution_count": 17,
      "outputs": [
        {
          "output_type": "display_data",
          "data": {
            "text/plain": [
              "               Model        MSE      RMSE  R-squared\n",
              "0      Random Forest  15.805261  3.975583   0.934209\n",
              "1  Linear Regression  33.490644  5.787110   0.860592\n",
              "2  Gradient Boosting  20.595556  4.538233   0.914269"
            ],
            "text/html": [
              "\n",
              "  <div id=\"df-055beed9-fe6d-4e31-974b-9ef87518cab5\" class=\"colab-df-container\">\n",
              "    <div>\n",
              "<style scoped>\n",
              "    .dataframe tbody tr th:only-of-type {\n",
              "        vertical-align: middle;\n",
              "    }\n",
              "\n",
              "    .dataframe tbody tr th {\n",
              "        vertical-align: top;\n",
              "    }\n",
              "\n",
              "    .dataframe thead th {\n",
              "        text-align: right;\n",
              "    }\n",
              "</style>\n",
              "<table border=\"1\" class=\"dataframe\">\n",
              "  <thead>\n",
              "    <tr style=\"text-align: right;\">\n",
              "      <th></th>\n",
              "      <th>Model</th>\n",
              "      <th>MSE</th>\n",
              "      <th>RMSE</th>\n",
              "      <th>R-squared</th>\n",
              "    </tr>\n",
              "  </thead>\n",
              "  <tbody>\n",
              "    <tr>\n",
              "      <th>0</th>\n",
              "      <td>Random Forest</td>\n",
              "      <td>15.805261</td>\n",
              "      <td>3.975583</td>\n",
              "      <td>0.934209</td>\n",
              "    </tr>\n",
              "    <tr>\n",
              "      <th>1</th>\n",
              "      <td>Linear Regression</td>\n",
              "      <td>33.490644</td>\n",
              "      <td>5.787110</td>\n",
              "      <td>0.860592</td>\n",
              "    </tr>\n",
              "    <tr>\n",
              "      <th>2</th>\n",
              "      <td>Gradient Boosting</td>\n",
              "      <td>20.595556</td>\n",
              "      <td>4.538233</td>\n",
              "      <td>0.914269</td>\n",
              "    </tr>\n",
              "  </tbody>\n",
              "</table>\n",
              "</div>\n",
              "    <div class=\"colab-df-buttons\">\n",
              "\n",
              "  <div class=\"colab-df-container\">\n",
              "    <button class=\"colab-df-convert\" onclick=\"convertToInteractive('df-055beed9-fe6d-4e31-974b-9ef87518cab5')\"\n",
              "            title=\"Convert this dataframe to an interactive table.\"\n",
              "            style=\"display:none;\">\n",
              "\n",
              "  <svg xmlns=\"http://www.w3.org/2000/svg\" height=\"24px\" viewBox=\"0 -960 960 960\">\n",
              "    <path d=\"M120-120v-720h720v720H120Zm60-500h600v-160H180v160Zm220 220h160v-160H400v160Zm0 220h160v-160H400v160ZM180-400h160v-160H180v160Zm440 0h160v-160H620v160ZM180-180h160v-160H180v160Zm440 0h160v-160H620v160Z\"/>\n",
              "  </svg>\n",
              "    </button>\n",
              "\n",
              "  <style>\n",
              "    .colab-df-container {\n",
              "      display:flex;\n",
              "      gap: 12px;\n",
              "    }\n",
              "\n",
              "    .colab-df-convert {\n",
              "      background-color: #E8F0FE;\n",
              "      border: none;\n",
              "      border-radius: 50%;\n",
              "      cursor: pointer;\n",
              "      display: none;\n",
              "      fill: #1967D2;\n",
              "      height: 32px;\n",
              "      padding: 0 0 0 0;\n",
              "      width: 32px;\n",
              "    }\n",
              "\n",
              "    .colab-df-convert:hover {\n",
              "      background-color: #E2EBFA;\n",
              "      box-shadow: 0px 1px 2px rgba(60, 64, 67, 0.3), 0px 1px 3px 1px rgba(60, 64, 67, 0.15);\n",
              "      fill: #174EA6;\n",
              "    }\n",
              "\n",
              "    .colab-df-buttons div {\n",
              "      margin-bottom: 4px;\n",
              "    }\n",
              "\n",
              "    [theme=dark] .colab-df-convert {\n",
              "      background-color: #3B4455;\n",
              "      fill: #D2E3FC;\n",
              "    }\n",
              "\n",
              "    [theme=dark] .colab-df-convert:hover {\n",
              "      background-color: #434B5C;\n",
              "      box-shadow: 0px 1px 3px 1px rgba(0, 0, 0, 0.15);\n",
              "      filter: drop-shadow(0px 1px 2px rgba(0, 0, 0, 0.3));\n",
              "      fill: #FFFFFF;\n",
              "    }\n",
              "  </style>\n",
              "\n",
              "    <script>\n",
              "      const buttonEl =\n",
              "        document.querySelector('#df-055beed9-fe6d-4e31-974b-9ef87518cab5 button.colab-df-convert');\n",
              "      buttonEl.style.display =\n",
              "        google.colab.kernel.accessAllowed ? 'block' : 'none';\n",
              "\n",
              "      async function convertToInteractive(key) {\n",
              "        const element = document.querySelector('#df-055beed9-fe6d-4e31-974b-9ef87518cab5');\n",
              "        const dataTable =\n",
              "          await google.colab.kernel.invokeFunction('convertToInteractive',\n",
              "                                                    [key], {});\n",
              "        if (!dataTable) return;\n",
              "\n",
              "        const docLinkHtml = 'Like what you see? Visit the ' +\n",
              "          '<a target=\"_blank\" href=https://colab.research.google.com/notebooks/data_table.ipynb>data table notebook</a>'\n",
              "          + ' to learn more about interactive tables.';\n",
              "        element.innerHTML = '';\n",
              "        dataTable['output_type'] = 'display_data';\n",
              "        await google.colab.output.renderOutput(dataTable, element);\n",
              "        const docLink = document.createElement('div');\n",
              "        docLink.innerHTML = docLinkHtml;\n",
              "        element.appendChild(docLink);\n",
              "      }\n",
              "    </script>\n",
              "  </div>\n",
              "\n",
              "\n",
              "    <div id=\"df-41da3150-6e25-4fef-bce2-245c5512b0d5\">\n",
              "      <button class=\"colab-df-quickchart\" onclick=\"quickchart('df-41da3150-6e25-4fef-bce2-245c5512b0d5')\"\n",
              "                title=\"Suggest charts\"\n",
              "                style=\"display:none;\">\n",
              "\n",
              "<svg xmlns=\"http://www.w3.org/2000/svg\" height=\"24px\"viewBox=\"0 0 24 24\"\n",
              "     width=\"24px\">\n",
              "    <g>\n",
              "        <path d=\"M19 3H5c-1.1 0-2 .9-2 2v14c0 1.1.9 2 2 2h14c1.1 0 2-.9 2-2V5c0-1.1-.9-2-2-2zM9 17H7v-7h2v7zm4 0h-2V7h2v10zm4 0h-2v-4h2v4z\"/>\n",
              "    </g>\n",
              "</svg>\n",
              "      </button>\n",
              "\n",
              "<style>\n",
              "  .colab-df-quickchart {\n",
              "      --bg-color: #E8F0FE;\n",
              "      --fill-color: #1967D2;\n",
              "      --hover-bg-color: #E2EBFA;\n",
              "      --hover-fill-color: #174EA6;\n",
              "      --disabled-fill-color: #AAA;\n",
              "      --disabled-bg-color: #DDD;\n",
              "  }\n",
              "\n",
              "  [theme=dark] .colab-df-quickchart {\n",
              "      --bg-color: #3B4455;\n",
              "      --fill-color: #D2E3FC;\n",
              "      --hover-bg-color: #434B5C;\n",
              "      --hover-fill-color: #FFFFFF;\n",
              "      --disabled-bg-color: #3B4455;\n",
              "      --disabled-fill-color: #666;\n",
              "  }\n",
              "\n",
              "  .colab-df-quickchart {\n",
              "    background-color: var(--bg-color);\n",
              "    border: none;\n",
              "    border-radius: 50%;\n",
              "    cursor: pointer;\n",
              "    display: none;\n",
              "    fill: var(--fill-color);\n",
              "    height: 32px;\n",
              "    padding: 0;\n",
              "    width: 32px;\n",
              "  }\n",
              "\n",
              "  .colab-df-quickchart:hover {\n",
              "    background-color: var(--hover-bg-color);\n",
              "    box-shadow: 0 1px 2px rgba(60, 64, 67, 0.3), 0 1px 3px 1px rgba(60, 64, 67, 0.15);\n",
              "    fill: var(--button-hover-fill-color);\n",
              "  }\n",
              "\n",
              "  .colab-df-quickchart-complete:disabled,\n",
              "  .colab-df-quickchart-complete:disabled:hover {\n",
              "    background-color: var(--disabled-bg-color);\n",
              "    fill: var(--disabled-fill-color);\n",
              "    box-shadow: none;\n",
              "  }\n",
              "\n",
              "  .colab-df-spinner {\n",
              "    border: 2px solid var(--fill-color);\n",
              "    border-color: transparent;\n",
              "    border-bottom-color: var(--fill-color);\n",
              "    animation:\n",
              "      spin 1s steps(1) infinite;\n",
              "  }\n",
              "\n",
              "  @keyframes spin {\n",
              "    0% {\n",
              "      border-color: transparent;\n",
              "      border-bottom-color: var(--fill-color);\n",
              "      border-left-color: var(--fill-color);\n",
              "    }\n",
              "    20% {\n",
              "      border-color: transparent;\n",
              "      border-left-color: var(--fill-color);\n",
              "      border-top-color: var(--fill-color);\n",
              "    }\n",
              "    30% {\n",
              "      border-color: transparent;\n",
              "      border-left-color: var(--fill-color);\n",
              "      border-top-color: var(--fill-color);\n",
              "      border-right-color: var(--fill-color);\n",
              "    }\n",
              "    40% {\n",
              "      border-color: transparent;\n",
              "      border-right-color: var(--fill-color);\n",
              "      border-top-color: var(--fill-color);\n",
              "    }\n",
              "    60% {\n",
              "      border-color: transparent;\n",
              "      border-right-color: var(--fill-color);\n",
              "    }\n",
              "    80% {\n",
              "      border-color: transparent;\n",
              "      border-right-color: var(--fill-color);\n",
              "      border-bottom-color: var(--fill-color);\n",
              "    }\n",
              "    90% {\n",
              "      border-color: transparent;\n",
              "      border-bottom-color: var(--fill-color);\n",
              "    }\n",
              "  }\n",
              "</style>\n",
              "\n",
              "      <script>\n",
              "        async function quickchart(key) {\n",
              "          const quickchartButtonEl =\n",
              "            document.querySelector('#' + key + ' button');\n",
              "          quickchartButtonEl.disabled = true;  // To prevent multiple clicks.\n",
              "          quickchartButtonEl.classList.add('colab-df-spinner');\n",
              "          try {\n",
              "            const charts = await google.colab.kernel.invokeFunction(\n",
              "                'suggestCharts', [key], {});\n",
              "          } catch (error) {\n",
              "            console.error('Error during call to suggestCharts:', error);\n",
              "          }\n",
              "          quickchartButtonEl.classList.remove('colab-df-spinner');\n",
              "          quickchartButtonEl.classList.add('colab-df-quickchart-complete');\n",
              "        }\n",
              "        (() => {\n",
              "          let quickchartButtonEl =\n",
              "            document.querySelector('#df-41da3150-6e25-4fef-bce2-245c5512b0d5 button');\n",
              "          quickchartButtonEl.style.display =\n",
              "            google.colab.kernel.accessAllowed ? 'block' : 'none';\n",
              "        })();\n",
              "      </script>\n",
              "    </div>\n",
              "\n",
              "  <div id=\"id_b8514d43-96b1-4671-9873-121de29efcfd\">\n",
              "    <style>\n",
              "      .colab-df-generate {\n",
              "        background-color: #E8F0FE;\n",
              "        border: none;\n",
              "        border-radius: 50%;\n",
              "        cursor: pointer;\n",
              "        display: none;\n",
              "        fill: #1967D2;\n",
              "        height: 32px;\n",
              "        padding: 0 0 0 0;\n",
              "        width: 32px;\n",
              "      }\n",
              "\n",
              "      .colab-df-generate:hover {\n",
              "        background-color: #E2EBFA;\n",
              "        box-shadow: 0px 1px 2px rgba(60, 64, 67, 0.3), 0px 1px 3px 1px rgba(60, 64, 67, 0.15);\n",
              "        fill: #174EA6;\n",
              "      }\n",
              "\n",
              "      [theme=dark] .colab-df-generate {\n",
              "        background-color: #3B4455;\n",
              "        fill: #D2E3FC;\n",
              "      }\n",
              "\n",
              "      [theme=dark] .colab-df-generate:hover {\n",
              "        background-color: #434B5C;\n",
              "        box-shadow: 0px 1px 3px 1px rgba(0, 0, 0, 0.15);\n",
              "        filter: drop-shadow(0px 1px 2px rgba(0, 0, 0, 0.3));\n",
              "        fill: #FFFFFF;\n",
              "      }\n",
              "    </style>\n",
              "    <button class=\"colab-df-generate\" onclick=\"generateWithVariable('comparison_df')\"\n",
              "            title=\"Generate code using this dataframe.\"\n",
              "            style=\"display:none;\">\n",
              "\n",
              "  <svg xmlns=\"http://www.w3.org/2000/svg\" height=\"24px\"viewBox=\"0 0 24 24\"\n",
              "       width=\"24px\">\n",
              "    <path d=\"M7,19H8.4L18.45,9,17,7.55,7,17.6ZM5,21V16.75L18.45,3.32a2,2,0,0,1,2.83,0l1.4,1.43a1.91,1.91,0,0,1,.58,1.4,1.91,1.91,0,0,1-.58,1.4L9.25,21ZM18.45,9,17,7.55Zm-12,3A5.31,5.31,0,0,0,4.9,8.1,5.31,5.31,0,0,0,1,6.5,5.31,5.31,0,0,0,4.9,4.9,5.31,5.31,0,0,0,6.5,1,5.31,5.31,0,0,0,8.1,4.9,5.31,5.31,0,0,0,12,6.5,5.46,5.46,0,0,0,6.5,12Z\"/>\n",
              "  </svg>\n",
              "    </button>\n",
              "    <script>\n",
              "      (() => {\n",
              "      const buttonEl =\n",
              "        document.querySelector('#id_b8514d43-96b1-4671-9873-121de29efcfd button.colab-df-generate');\n",
              "      buttonEl.style.display =\n",
              "        google.colab.kernel.accessAllowed ? 'block' : 'none';\n",
              "\n",
              "      buttonEl.onclick = () => {\n",
              "        google.colab.notebook.generateWithVariable('comparison_df');\n",
              "      }\n",
              "      })();\n",
              "    </script>\n",
              "  </div>\n",
              "\n",
              "    </div>\n",
              "  </div>\n"
            ],
            "application/vnd.google.colaboratory.intrinsic+json": {
              "type": "dataframe",
              "variable_name": "comparison_df",
              "summary": "{\n  \"name\": \"comparison_df\",\n  \"rows\": 3,\n  \"fields\": [\n    {\n      \"column\": \"Model\",\n      \"properties\": {\n        \"dtype\": \"string\",\n        \"num_unique_values\": 3,\n        \"samples\": [\n          \"Random Forest\",\n          \"Linear Regression\",\n          \"Gradient Boosting\"\n        ],\n        \"semantic_type\": \"\",\n        \"description\": \"\"\n      }\n    },\n    {\n      \"column\": \"MSE\",\n      \"properties\": {\n        \"dtype\": \"number\",\n        \"std\": 9.146975643425494,\n        \"min\": 15.805260783978106,\n        \"max\": 33.490643591220866,\n        \"num_unique_values\": 3,\n        \"samples\": [\n          15.805260783978106,\n          33.490643591220866,\n          20.595555799631093\n        ],\n        \"semantic_type\": \"\",\n        \"description\": \"\"\n      }\n    },\n    {\n      \"column\": \"RMSE\",\n      \"properties\": {\n        \"dtype\": \"number\",\n        \"std\": 0.927173096892778,\n        \"min\": 3.97558307471723,\n        \"max\": 5.787110124338474,\n        \"num_unique_values\": 3,\n        \"samples\": [\n          3.97558307471723,\n          5.787110124338474,\n          4.538232673589036\n        ],\n        \"semantic_type\": \"\",\n        \"description\": \"\"\n      }\n    },\n    {\n      \"column\": \"R-squared\",\n      \"properties\": {\n        \"dtype\": \"number\",\n        \"std\": 0.03807507287833522,\n        \"min\": 0.8605923154070471,\n        \"max\": 0.9342092425222974,\n        \"num_unique_values\": 3,\n        \"samples\": [\n          0.9342092425222974,\n          0.8605923154070471,\n          0.9142692274900273\n        ],\n        \"semantic_type\": \"\",\n        \"description\": \"\"\n      }\n    }\n  ]\n}"
            }
          },
          "metadata": {}
        }
      ]
    }
  ]
}